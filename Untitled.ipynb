{
 "cells": [
  {
   "cell_type": "code",
   "execution_count": 1,
   "id": "46cb552e-6d7f-4769-a5a4-5e3dde2e0317",
   "metadata": {},
   "outputs": [
    {
     "name": "stdout",
     "output_type": "stream",
     "text": [
      "\u001b[0m\u001b[01;34mcheckpoints\u001b[0m/                               README.md\n",
      "\u001b[01;34mCIKM_Eva\u001b[0m/                                  requirements.txt\n",
      "cikm_predrnn_pp_run_cikm_dataloader.py     SAC_LSTM_shengteng.py\n",
      "cikm_predrnn_pp_run_cikm_dataloader_SA.py  \u001b[01;34mscript\u001b[0m/\n",
      "\u001b[01;34mcore\u001b[0m/                                      supported_api.csv\n",
      "custom_supported_api.csv                   \u001b[01;34mtest\u001b[0m/\n",
      "\u001b[01;34mdata_provider\u001b[0m/                             unsupported_api.csv\n",
      "\u001b[01;34mdavinci\u001b[0m/                                   Untitled.ipynb\n",
      "deleted_api.csv                            x2mindspore.log\n",
      "\u001b[01;34mrank_0\u001b[0m/                                    \u001b[01;34mx2ms_adapter\u001b[0m/\n"
     ]
    }
   ],
   "source": [
    "ls\n"
   ]
  },
  {
   "cell_type": "code",
   "execution_count": 3,
   "id": "a2c13fb9-bb3f-4176-b5b2-95aff09ee202",
   "metadata": {},
   "outputs": [
    {
     "ename": "SyntaxError",
     "evalue": "invalid syntax (4270064411.py, line 1)",
     "output_type": "error",
     "traceback": [
      "\u001b[0;36m  File \u001b[0;32m\"/tmp/ipykernel_17336/4270064411.py\"\u001b[0;36m, line \u001b[0;32m1\u001b[0m\n\u001b[0;31m    ./SAC_LSTM_shengteng.py\u001b[0m\n\u001b[0m    ^\u001b[0m\n\u001b[0;31mSyntaxError\u001b[0m\u001b[0;31m:\u001b[0m invalid syntax\n"
     ]
    }
   ],
   "source": [
    "./SAC_LSTM_shengteng.py"
   ]
  },
  {
   "cell_type": "code",
   "execution_count": 11,
   "id": "b5ad4b8f-1510-41c7-b6f3-43101d0f08f2",
   "metadata": {},
   "outputs": [
    {
     "ename": "ImportError",
     "evalue": "/home/ma-user/anaconda3/envs/MindSpore/lib/python3.7/site-packages/skimage/_shared/../../scikit_image.libs/libgomp-d22c30c5.so.1.0.0: cannot allocate memory in static TLS block\nIt seems that scikit-image has not been built correctly.\n\nYour install of scikit-image appears to be broken.\nTry re-installing the package following the instructions at:\nhttps://scikit-image.org/docs/stable/install.html ",
     "output_type": "error",
     "traceback": [
      "\u001b[0;31m---------------------------------------------------------------------------\u001b[0m",
      "\u001b[0;31mImportError\u001b[0m                               Traceback (most recent call last)",
      "\u001b[0;32m~/anaconda3/envs/MindSpore/lib/python3.7/site-packages/skimage/__init__.py\u001b[0m in \u001b[0;36m<module>\u001b[0;34m\u001b[0m\n\u001b[1;32m    150\u001b[0m     \u001b[0;32mtry\u001b[0m\u001b[0;34m:\u001b[0m\u001b[0;34m\u001b[0m\u001b[0;34m\u001b[0m\u001b[0m\n\u001b[0;32m--> 151\u001b[0;31m         \u001b[0;32mfrom\u001b[0m \u001b[0;34m.\u001b[0m\u001b[0m_shared\u001b[0m \u001b[0;32mimport\u001b[0m \u001b[0mgeometry\u001b[0m\u001b[0;34m\u001b[0m\u001b[0;34m\u001b[0m\u001b[0m\n\u001b[0m\u001b[1;32m    152\u001b[0m         \u001b[0;32mdel\u001b[0m \u001b[0mgeometry\u001b[0m\u001b[0;34m\u001b[0m\u001b[0;34m\u001b[0m\u001b[0m\n",
      "\u001b[0;31mImportError\u001b[0m: /home/ma-user/anaconda3/envs/MindSpore/lib/python3.7/site-packages/skimage/_shared/../../scikit_image.libs/libgomp-d22c30c5.so.1.0.0: cannot allocate memory in static TLS block",
      "\nDuring handling of the above exception, another exception occurred:\n",
      "\u001b[0;31mImportError\u001b[0m                               Traceback (most recent call last)",
      "\u001b[0;32m~/work/IDA_LSTM-master-huawei_x2ms/SAC_LSTM_shengteng.py\u001b[0m in \u001b[0;36m<module>\u001b[0;34m\u001b[0m\n\u001b[1;32m     21\u001b[0m \u001b[0;32mfrom\u001b[0m \u001b[0mcore\u001b[0m\u001b[0;34m.\u001b[0m\u001b[0mutils\u001b[0m \u001b[0;32mimport\u001b[0m \u001b[0mpreprocess\u001b[0m\u001b[0;34m\u001b[0m\u001b[0;34m\u001b[0m\u001b[0m\n\u001b[1;32m     22\u001b[0m \u001b[0;32mimport\u001b[0m \u001b[0mcore\u001b[0m\u001b[0;34m.\u001b[0m\u001b[0mtrainer\u001b[0m \u001b[0;32mas\u001b[0m \u001b[0mtrainer\u001b[0m\u001b[0;34m\u001b[0m\u001b[0;34m\u001b[0m\u001b[0m\n\u001b[0;32m---> 23\u001b[0;31m \u001b[0;32mfrom\u001b[0m \u001b[0mdata_provider\u001b[0m\u001b[0;34m.\u001b[0m\u001b[0mCIKM\u001b[0m\u001b[0;34m.\u001b[0m\u001b[0mdata_iterator\u001b[0m \u001b[0;32mimport\u001b[0m \u001b[0;34m*\u001b[0m\u001b[0;34m\u001b[0m\u001b[0;34m\u001b[0m\u001b[0m\n\u001b[0m\u001b[1;32m     24\u001b[0m \u001b[0;32mimport\u001b[0m \u001b[0mmath\u001b[0m\u001b[0;34m\u001b[0m\u001b[0;34m\u001b[0m\u001b[0m\n\u001b[1;32m     25\u001b[0m \u001b[0;32mimport\u001b[0m \u001b[0mmoxing\u001b[0m \u001b[0;32mas\u001b[0m \u001b[0mmox\u001b[0m\u001b[0;34m\u001b[0m\u001b[0;34m\u001b[0m\u001b[0m\n",
      "\u001b[0;32m~/work/IDA_LSTM-master-huawei_x2ms/data_provider/CIKM/data_iterator.py\u001b[0m in \u001b[0;36m<module>\u001b[0;34m\u001b[0m\n\u001b[1;32m    403\u001b[0m \u001b[0;34m\u001b[0m\u001b[0m\n\u001b[1;32m    404\u001b[0m \u001b[0;34m\u001b[0m\u001b[0m\n\u001b[0;32m--> 405\u001b[0;31m \u001b[0;32mfrom\u001b[0m \u001b[0mskimage\u001b[0m\u001b[0;34m.\u001b[0m\u001b[0mtransform\u001b[0m \u001b[0;32mimport\u001b[0m \u001b[0mresize\u001b[0m\u001b[0;34m\u001b[0m\u001b[0;34m\u001b[0m\u001b[0m\n\u001b[0m\u001b[1;32m    406\u001b[0m \u001b[0;34m\u001b[0m\u001b[0m\n\u001b[1;32m    407\u001b[0m \u001b[0;32mdef\u001b[0m \u001b[0msample_Rard\u001b[0m\u001b[0;34m(\u001b[0m\u001b[0mbatch_size\u001b[0m\u001b[0;34m,\u001b[0m\u001b[0mmode\u001b[0m \u001b[0;34m=\u001b[0m \u001b[0;34m'random'\u001b[0m\u001b[0;34m,\u001b[0m\u001b[0mdata_type\u001b[0m\u001b[0;34m=\u001b[0m\u001b[0;34m'train'\u001b[0m\u001b[0;34m,\u001b[0m\u001b[0mindex\u001b[0m \u001b[0;34m=\u001b[0m \u001b[0;32mNone\u001b[0m\u001b[0;34m)\u001b[0m\u001b[0;34m:\u001b[0m\u001b[0;34m\u001b[0m\u001b[0;34m\u001b[0m\u001b[0m\n",
      "\u001b[0;32m~/anaconda3/envs/MindSpore/lib/python3.7/site-packages/skimage/__init__.py\u001b[0m in \u001b[0;36m<module>\u001b[0;34m\u001b[0m\n\u001b[1;32m    152\u001b[0m         \u001b[0;32mdel\u001b[0m \u001b[0mgeometry\u001b[0m\u001b[0;34m\u001b[0m\u001b[0;34m\u001b[0m\u001b[0m\n\u001b[1;32m    153\u001b[0m     \u001b[0;32mexcept\u001b[0m \u001b[0mImportError\u001b[0m \u001b[0;32mas\u001b[0m \u001b[0me\u001b[0m\u001b[0;34m:\u001b[0m\u001b[0;34m\u001b[0m\u001b[0;34m\u001b[0m\u001b[0m\n\u001b[0;32m--> 154\u001b[0;31m         \u001b[0m_raise_build_error\u001b[0m\u001b[0;34m(\u001b[0m\u001b[0me\u001b[0m\u001b[0;34m)\u001b[0m\u001b[0;34m\u001b[0m\u001b[0;34m\u001b[0m\u001b[0m\n\u001b[0m\u001b[1;32m    155\u001b[0m \u001b[0;34m\u001b[0m\u001b[0m\n\u001b[1;32m    156\u001b[0m     \u001b[0;31m# All skimage root imports go here\u001b[0m\u001b[0;34m\u001b[0m\u001b[0;34m\u001b[0m\u001b[0;34m\u001b[0m\u001b[0m\n",
      "\u001b[0;32m~/anaconda3/envs/MindSpore/lib/python3.7/site-packages/skimage/__init__.py\u001b[0m in \u001b[0;36m_raise_build_error\u001b[0;34m(e)\u001b[0m\n\u001b[1;32m    131\u001b[0m     raise ImportError(\"\"\"%s\n\u001b[1;32m    132\u001b[0m \u001b[0mIt\u001b[0m \u001b[0mseems\u001b[0m \u001b[0mthat\u001b[0m \u001b[0mscikit\u001b[0m\u001b[0;34m-\u001b[0m\u001b[0mimage\u001b[0m \u001b[0mhas\u001b[0m \u001b[0;32mnot\u001b[0m \u001b[0mbeen\u001b[0m \u001b[0mbuilt\u001b[0m \u001b[0mcorrectly\u001b[0m\u001b[0;34m.\u001b[0m\u001b[0;34m\u001b[0m\u001b[0;34m\u001b[0m\u001b[0m\n\u001b[0;32m--> 133\u001b[0;31m %s\"\"\" % (e, msg))\n\u001b[0m\u001b[1;32m    134\u001b[0m \u001b[0;34m\u001b[0m\u001b[0m\n\u001b[1;32m    135\u001b[0m \u001b[0;34m\u001b[0m\u001b[0m\n",
      "\u001b[0;31mImportError\u001b[0m: /home/ma-user/anaconda3/envs/MindSpore/lib/python3.7/site-packages/skimage/_shared/../../scikit_image.libs/libgomp-d22c30c5.so.1.0.0: cannot allocate memory in static TLS block\nIt seems that scikit-image has not been built correctly.\n\nYour install of scikit-image appears to be broken.\nTry re-installing the package following the instructions at:\nhttps://scikit-image.org/docs/stable/install.html "
     ]
    }
   ],
   "source": [
    "%run SAC_LSTM_shengteng.py"
   ]
  },
  {
   "cell_type": "code",
   "execution_count": 5,
   "id": "7a41f147-40de-4c1f-9edc-0d3fbc46172f",
   "metadata": {},
   "outputs": [
    {
     "name": "stdout",
     "output_type": "stream",
     "text": [
      "Package                Version\n",
      "---------------------- ------------------\n",
      "addict                 2.4.0\n",
      "APScheduler            3.8.1\n",
      "arrow                  1.2.2\n",
      "asgiref                3.4.1\n",
      "asttokens              2.0.5\n",
      "astunparse             1.6.3\n",
      "attrs                  19.3.0\n",
      "auto-tune              0.1.0\n",
      "backcall               0.2.0\n",
      "backports.zoneinfo     0.2.1\n",
      "binaryornot            0.4.4\n",
      "boto3                  1.12.22\n",
      "botocore               1.15.49\n",
      "certifi                2021.10.8\n",
      "cffi                   1.14.0\n",
      "chardet                3.0.4\n",
      "charset-normalizer     2.0.12\n",
      "click                  8.1.3\n",
      "cloudpickle            2.0.0\n",
      "colorama               0.4.4\n",
      "configparser           5.2.0\n",
      "cookiecutter           2.1.1\n",
      "cryptography           3.4.7\n",
      "cycler                 0.11.0\n",
      "Cython                 0.29.14\n",
      "debugpy                1.6.2\n",
      "decorator              4.4.1\n",
      "Django                 3.2.9\n",
      "docutils               0.15.2\n",
      "easydict               1.9\n",
      "entrypoints            0.3\n",
      "ephemeral-port-reserve 1.1.4\n",
      "esdk-obs-python        3.21.4\n",
      "Flask                  2.1.3\n",
      "future                 0.18.2\n",
      "futures                3.1.1\n",
      "gast                   0.5.2\n",
      "google-pasta           0.2.0\n",
      "grpcio                 1.47.0\n",
      "grpcio-tools           1.26.0\n",
      "gunicorn               20.1.0\n",
      "h5py                   2.10.0\n",
      "hccl                   0.1.0\n",
      "hccl-parser            0.1\n",
      "huaweicloudsdkcore     3.0.50\n",
      "idna                   2.10\n",
      "image                  1.5.28\n",
      "importlib-metadata     4.12.0\n",
      "ipykernel              6.7.0\n",
      "ipython                7.29.0\n",
      "ipython-genutils       0.2.0\n",
      "itsdangerous           2.1.2\n",
      "jedi                   0.18.0\n",
      "Jinja2                 3.1.2\n",
      "jinja2-time            0.2.0\n",
      "jmespath               0.10.0\n",
      "joblib                 1.1.0\n",
      "jupyter-client         7.0.6\n",
      "jupyter-core           4.9.1\n",
      "keyboard               0.13.5\n",
      "kfac                   0.2.0\n",
      "kiwisolver             1.1.0\n",
      "lxml                   4.4.2\n",
      "ma-cau                 1.1.2\n",
      "ma-cau-adapter         1.1.2\n",
      "ma-cli                 1.1.3\n",
      "MarkupSafe             2.1.1\n",
      "marshmallow            3.17.0\n",
      "matplotlib             3.1.2\n",
      "matplotlib-inline      0.1.3\n",
      "mindinsight            1.7.0\n",
      "mindspore-ascend       1.8.1\n",
      "mmcv                   0.2.14\n",
      "modelarts              1.4.7\n",
      "moxing-framework       2.0.0.rc2.4b57a67b\n",
      "mpmath                 1.2.1\n",
      "msadvisor              1.0.0\n",
      "nest-asyncio           1.5.1\n",
      "npu-bridge             1.15.0\n",
      "npu-device             0.1\n",
      "numexpr                2.7.1\n",
      "numpy                  1.17.5\n",
      "op-gen                 0.1\n",
      "op-test-frame          0.1\n",
      "opc-tool               0.1.0\n",
      "opencv-python          4.2.0.34\n",
      "packaging              21.3\n",
      "pandas                 1.1.3\n",
      "parso                  0.8.2\n",
      "pathlib2               2.3.7.post1\n",
      "pexpect                4.8.0\n",
      "pickleshare            0.7.5\n",
      "Pillow                 7.0.0\n",
      "pip                    21.2.4\n",
      "prettytable            2.1.0\n",
      "prompt-toolkit         3.0.22\n",
      "protobuf               4.21.2\n",
      "psutil                 5.7.0\n",
      "ptyprocess             0.7.0\n",
      "pycocotools            2.0.0\n",
      "pycparser              2.21\n",
      "Pygments               2.10.0\n",
      "pyparsing              3.0.6\n",
      "python-dateutil        2.8.2\n",
      "python-slugify         6.1.2\n",
      "pytz                   2021.3\n",
      "pytz-deprecation-shim  0.1.0.post0\n",
      "PyYAML                 5.3.1\n",
      "pyzmq                  22.3.0\n",
      "requests               2.23.0\n",
      "requests-futures       1.0.0\n",
      "s3transfer             0.3.7\n",
      "schedule-search        0.0.1\n",
      "scikit-learn           0.24.0\n",
      "scipy                  1.5.4\n",
      "semantic-version       2.8.5\n",
      "setuptools             58.0.4\n",
      "six                    1.16.0\n",
      "sqlparse               0.4.2\n",
      "sympy                  1.4\n",
      "tables                 3.6.1\n",
      "tabulate               0.8.9\n",
      "te                     0.4.0\n",
      "tenacity               8.0.1\n",
      "tensorflow-probability 0.9.0\n",
      "terminaltables         3.1.0\n",
      "text-unidecode         1.3\n",
      "threadpoolctl          3.0.0\n",
      "topi                   0.4.0\n",
      "tornado                6.1\n",
      "tqdm                   4.62.3\n",
      "traitlets              5.1.1\n",
      "treelib                1.6.1\n",
      "typing-extensions      3.10.0.2\n",
      "tzdata                 2022.1\n",
      "tzlocal                4.2\n",
      "urllib3                1.26.10\n",
      "wcwidth                0.2.5\n",
      "Werkzeug               2.1.2\n",
      "wheel                  0.37.0\n",
      "XlsxWriter             3.0.3\n",
      "yapf                   0.32.0\n",
      "zipp                   3.8.1\n",
      "Note: you may need to restart the kernel to use updated packages.\n"
     ]
    }
   ],
   "source": [
    "pip list"
   ]
  },
  {
   "cell_type": "code",
   "execution_count": 6,
   "id": "39caeb3b-d601-453e-a539-56fc1ea052c3",
   "metadata": {},
   "outputs": [
    {
     "name": "stdout",
     "output_type": "stream",
     "text": [
      "Looking in indexes: http://pip.modelarts.private.com:8888/repository/pypi/simple\n",
      "Collecting imageio\n",
      "  Downloading http://pip.modelarts.private.com:8888/repository/pypi/packages/imageio/2.22.3/imageio-2.22.3-py3-none-any.whl (3.4 MB)\n",
      "\u001b[K     |████████████████████████████████| 3.4 MB 43.9 MB/s eta 0:00:01\n",
      "\u001b[?25hRequirement already satisfied: numpy in /home/ma-user/anaconda3/envs/MindSpore/lib/python3.7/site-packages (from imageio) (1.17.5)\n",
      "Collecting pillow>=8.3.2\n",
      "  Downloading http://pip.modelarts.private.com:8888/repository/pypi/packages/pillow/9.3.0/Pillow-9.3.0-cp37-cp37m-manylinux_2_28_aarch64.whl (3.1 MB)\n",
      "\u001b[K     |████████████████████████████████| 3.1 MB 53.1 MB/s eta 0:00:01\n",
      "\u001b[?25hInstalling collected packages: pillow, imageio\n",
      "  Attempting uninstall: pillow\n",
      "    Found existing installation: Pillow 7.0.0\n",
      "    Uninstalling Pillow-7.0.0:\n",
      "      Successfully uninstalled Pillow-7.0.0\n",
      "\u001b[31mERROR: pip's dependency resolver does not currently take into account all the packages that are installed. This behaviour is the source of the following dependency conflicts.\n",
      "modelarts 1.4.7 requires Pillow<=9.0.1, but you have pillow 9.3.0 which is incompatible.\n",
      "modelarts 1.4.7 requires requests~=2.27.1, but you have requests 2.23.0 which is incompatible.\u001b[0m\n",
      "Successfully installed imageio-2.22.3 pillow-9.3.0\n",
      "Note: you may need to restart the kernel to use updated packages.\n"
     ]
    }
   ],
   "source": [
    "pip install imageio"
   ]
  },
  {
   "cell_type": "code",
   "execution_count": 10,
   "id": "d57e15c5-e053-46e7-b2c6-9e19ea3e066f",
   "metadata": {},
   "outputs": [
    {
     "name": "stdout",
     "output_type": "stream",
     "text": [
      "Looking in indexes: http://pip.modelarts.private.com:8888/repository/pypi/simple\n",
      "Collecting scikit-image\n",
      "  Downloading http://pip.modelarts.private.com:8888/repository/pypi/packages/scikit-image/0.19.3/scikit_image-0.19.3-cp37-cp37m-manylinux_2_17_aarch64.manylinux2014_aarch64.whl (13.4 MB)\n",
      "\u001b[K     |████████████████████████████████| 13.4 MB 49.6 MB/s eta 0:00:01\n",
      "\u001b[?25hCollecting tifffile>=2019.7.26\n",
      "  Downloading http://pip.modelarts.private.com:8888/repository/pypi/packages/tifffile/2021.11.2/tifffile-2021.11.2-py3-none-any.whl (178 kB)\n",
      "\u001b[K     |████████████████████████████████| 178 kB 58.5 MB/s eta 0:00:01\n",
      "\u001b[?25hCollecting networkx>=2.2\n",
      "  Downloading http://pip.modelarts.private.com:8888/repository/pypi/packages/networkx/2.6.3/networkx-2.6.3-py3-none-any.whl (1.9 MB)\n",
      "\u001b[K     |████████████████████████████████| 1.9 MB 49.8 MB/s eta 0:00:01\n",
      "\u001b[?25hRequirement already satisfied: pillow!=7.1.0,!=7.1.1,!=8.3.0,>=6.1.0 in /home/ma-user/anaconda3/envs/MindSpore/lib/python3.7/site-packages (from scikit-image) (9.3.0)\n",
      "Collecting PyWavelets>=1.1.1\n",
      "  Downloading http://pip.modelarts.private.com:8888/repository/pypi/packages/pywavelets/1.4.0/PyWavelets-1.4.0.tar.gz (4.6 MB)\n",
      "\u001b[K     |████████████████████████████████| 4.6 MB 44.4 MB/s eta 0:00:01\n",
      "\u001b[?25h  Installing build dependencies ... \u001b[?25ldone\n",
      "\u001b[?25h  Getting requirements to build wheel ... \u001b[?25ldone\n",
      "\u001b[?25h    Preparing wheel metadata ... \u001b[?25ldone\n",
      "\u001b[?25hRequirement already satisfied: scipy>=1.4.1 in /home/ma-user/anaconda3/envs/MindSpore/lib/python3.7/site-packages (from scikit-image) (1.5.4)\n",
      "Requirement already satisfied: imageio>=2.4.1 in /home/ma-user/anaconda3/envs/MindSpore/lib/python3.7/site-packages (from scikit-image) (2.22.3)\n",
      "Requirement already satisfied: numpy>=1.17.0 in /home/ma-user/anaconda3/envs/MindSpore/lib/python3.7/site-packages (from scikit-image) (1.17.5)\n",
      "Requirement already satisfied: packaging>=20.0 in /home/ma-user/anaconda3/envs/MindSpore/lib/python3.7/site-packages (from scikit-image) (21.3)\n",
      "Requirement already satisfied: pyparsing!=3.0.5,>=2.0.2 in /home/ma-user/anaconda3/envs/MindSpore/lib/python3.7/site-packages (from packaging>=20.0->scikit-image) (3.0.6)\n",
      "Building wheels for collected packages: PyWavelets\n",
      "  Building wheel for PyWavelets (PEP 517) ... \u001b[?25ldone\n",
      "\u001b[?25h  Created wheel for PyWavelets: filename=PyWavelets-1.4.0-cp37-cp37m-linux_aarch64.whl size=5857143 sha256=a2de60312ef038c810066ed4d724ea3647fa94603ac673bd2598a07d8585492e\n",
      "  Stored in directory: /home/ma-user/.cache/pip/wheels/b4/3d/dd/4afe5e1c056b3d849baf97914651e2eb9c0f896cd11b786a55\n",
      "Successfully built PyWavelets\n",
      "Installing collected packages: tifffile, PyWavelets, networkx, scikit-image\n",
      "Successfully installed PyWavelets-1.4.0 networkx-2.6.3 scikit-image-0.19.3 tifffile-2021.11.2\n",
      "Note: you may need to restart the kernel to use updated packages.\n"
     ]
    }
   ],
   "source": [
    "pip install scikit-image"
   ]
  },
  {
   "cell_type": "code",
   "execution_count": null,
   "id": "b86ba804-701c-44b0-9b2c-6294d50d1e5d",
   "metadata": {},
   "outputs": [
    {
     "name": "stdout",
     "output_type": "stream",
     "text": [
      "Found existing installation: scikit-image 0.19.3\n",
      "Uninstalling scikit-image-0.19.3:\n",
      "  Would remove:\n",
      "    /home/ma-user/anaconda3/envs/MindSpore/bin/skivi\n",
      "    /home/ma-user/anaconda3/envs/MindSpore/lib/python3.7/site-packages/doc/ext/*\n",
      "    /home/ma-user/anaconda3/envs/MindSpore/lib/python3.7/site-packages/scikit_image-0.19.3.dist-info/*\n",
      "    /home/ma-user/anaconda3/envs/MindSpore/lib/python3.7/site-packages/scikit_image.libs/libgomp-d22c30c5.so.1.0.0\n",
      "    /home/ma-user/anaconda3/envs/MindSpore/lib/python3.7/site-packages/skimage/*\n",
      "Proceed (Y/n)? "
     ]
    }
   ],
   "source": [
    "pip uninstall scikit-image"
   ]
  },
  {
   "cell_type": "code",
   "execution_count": 15,
   "id": "a1b5fbe4-bd59-4e06-b459-a23b3a1be2d9",
   "metadata": {},
   "outputs": [
    {
     "ename": "NameError",
     "evalue": "name 'y' is not defined",
     "output_type": "error",
     "traceback": [
      "\u001b[0;31m---------------------------------------------------------------------------\u001b[0m",
      "\u001b[0;31mNameError\u001b[0m                                 Traceback (most recent call last)",
      "\u001b[0;32m/tmp/ipykernel_17336/3563912222.py\u001b[0m in \u001b[0;36m<module>\u001b[0;34m\u001b[0m\n\u001b[0;32m----> 1\u001b[0;31m \u001b[0my\u001b[0m\u001b[0;34m\u001b[0m\u001b[0;34m\u001b[0m\u001b[0m\n\u001b[0m",
      "\u001b[0;31mNameError\u001b[0m: name 'y' is not defined"
     ]
    }
   ],
   "source": [
    "y"
   ]
  },
  {
   "cell_type": "code",
   "execution_count": null,
   "id": "7583d96d-3095-4585-94d6-df7c4ac9b066",
   "metadata": {},
   "outputs": [],
   "source": [
    "y"
   ]
  },
  {
   "cell_type": "code",
   "execution_count": null,
   "id": "6289d762-2621-4050-be10-f50fc9d9d8b7",
   "metadata": {},
   "outputs": [],
   "source": [
    "npu-smi info watch"
   ]
  },
  {
   "cell_type": "code",
   "execution_count": null,
   "id": "9e88e439-4eca-402b-bfab-ebb2a7b52ecc",
   "metadata": {},
   "outputs": [],
   "source": []
  }
 ],
 "metadata": {
  "kernelspec": {
   "display_name": "MindSpore",
   "language": "python",
   "name": "mindspore"
  },
  "language_info": {
   "codemirror_mode": {
    "name": "ipython",
    "version": 3
   },
   "file_extension": ".py",
   "mimetype": "text/x-python",
   "name": "python",
   "nbconvert_exporter": "python",
   "pygments_lexer": "ipython3",
   "version": "3.7.6"
  }
 },
 "nbformat": 4,
 "nbformat_minor": 5
}
